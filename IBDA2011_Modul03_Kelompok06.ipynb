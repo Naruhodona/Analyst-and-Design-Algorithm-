{
  "nbformat": 4,
  "nbformat_minor": 0,
  "metadata": {
    "colab": {
      "provenance": [],
      "collapsed_sections": []
    },
    "kernelspec": {
      "name": "python3",
      "display_name": "Python 3"
    },
    "language_info": {
      "name": "python"
    }
  },
  "cells": [
    {
      "cell_type": "markdown",
      "source": [
        "### [De&C] Tugas 1\n",
        "Sebuah lift memiliki daya tampung maksimum sebesar $C$ kg. $N$ orang mahasiswa saat ini berada di lantai 16. Masing-masing berat badan mahasiswa tersebut adalah $b_0, b_1, \\dots b_{N-1}$. Karena terdapat agenda mendadak, manajemen gedung meminta perwakilan mahasiswa untuk dapat hadir di ruang rapat di lantai 1. Dengan batasan kapasitas lift, berapa jumlah mahasiswa terbanyak (dan siapa sajakah yang akan ditunjuk) yang sebaiknya diutus untuk mengikuti pertemuan tersebut dengan mobilisasi menggunakan lift?\n",
        "\n",
        "Selesaikan masalah di atas dengan algoritma berkompleksitas waktu $\\mathcal{O}(2^{N})$ dan kompleksitas ruang $\\mathcal{O}(N)$. Rancanglah algoritma yang seefisien mungkin untuk kemungkinan *best case* yang mungkin terjadi."
      ],
      "metadata": {
        "id": "3uyCobQ2EDpf"
      }
    },
    {
      "cell_type": "code",
      "execution_count": 17,
      "metadata": {
        "id": "aDSm6irpvOwx",
        "colab": {
          "base_uri": "https://localhost:8080/"
        },
        "outputId": "978f52fe-6715-4804-f9fe-c4642cacda64"
      },
      "outputs": [
        {
          "output_type": "stream",
          "name": "stdout",
          "text": [
            "Paling banyak terdapat 7 orang yang dapat di tampung oleh lift dengan berat 65, 75, 80, 82, 59, 45, 67, Total berat orang dalam lift = 473 Kg\n"
          ]
        }
      ],
      "source": [
        "# def bfs(current_position, berat, c, solutions, path_explored, value):\n",
        "#     queue = []\n",
        "#     queue.append([current_position, berat, c, path_explored, value])\n",
        "#     while(len(queue) != 0):\n",
        "#         current_position, berat, c, path_explored, value = queue[0]\n",
        "#         queue.pop(0)\n",
        "#         current_value = value\n",
        "#         current_value += berat[current_position, kontol]\n",
        "#         if current_value > c:\n",
        "#             solutions.append([])\n",
        "#         else:\n",
        "#             value += berat[current_position]\n",
        "#             next_path_explored = path_explored + [berat[current_position]]\n",
        "#             current_position += 1\n",
        "#             queue.append(current_position, berat, c, path_explored, value, kontol)\n",
        "     \n",
        "# c = int(input(\"Daya tampung maksimum lift : \"))\n",
        "# berat = int(input(\"Berat-berat badan mahasiswa : \")).split(\" \")\n",
        "# solutions = []\n",
        "# bfs(0, berat, c, solutions, [], 0)\n",
        "def subsets(array):\n",
        "    result = [[]]\n",
        "    for element in array:\n",
        "        result += [j + [element] for j in result]\n",
        "    return result\n",
        "def solution(s, c):\n",
        "    max = []\n",
        "    if sum(s) <= c:\n",
        "        return s\n",
        "    else:\n",
        "        result = subsets(s)\n",
        "    for i in result:\n",
        "        if len(i) > len(max) and sum(i) <= c:\n",
        "            max = i\n",
        "    for i in range (len(result)-1,0,-1):\n",
        "        if len(result[i]) == len(max) and sum(result[i]) <= c:\n",
        "            return result[i]\n",
        "    return max\n",
        "\n",
        "if __name__ == '__main__':\n",
        "    A = [80, 60, 75, 65, 75, 80, 82, 59, 45, 67]\n",
        "    c = 500\n",
        "    result = solution(A, c)\n",
        "    print(f\"Paling banyak terdapat {len(result)} orang yang dapat di tampung oleh lift dengan berat \", end=\"\")\n",
        "    for i in range(len(result)):\n",
        "        print(result[i], end=\", \")\n",
        "    print(f\"Total berat orang dalam lift = {sum(result)} Kg\")"
      ]
    },
    {
      "cell_type": "markdown",
      "source": [
        "### [De&C] Tugas 2\n",
        "\n",
        "Rancanglah algoritma untuk penyelesaian Masalah Koin Palsu dengan setiap iterasinya membagi total koin ke dalam 3 bagian, sedemikian sehingga efisiensi waktunya $\\mathcal{O}(\\log_3 N)$ dan efisiensi ruangnya $\\mathcal{O}(1)$."
      ],
      "metadata": {
        "id": "XrxmhaJHEMAL"
      }
    },
    {
      "cell_type": "code",
      "source": [
        "def balance(leftst, leftfin, rightst, rightfin, fake):\n",
        "    if leftst <= fake and fake < leftfin:\n",
        "        return \"left\"\n",
        "    if rightst <= fake and fake < rightfin:\n",
        "        return \"right\"\n",
        "    return \"same weight\"\n",
        "\n",
        "def findfake(left, right, balancing, fake):\n",
        "    coins = right - left\n",
        "    if coins == 1:\n",
        "        print(\"Koin palsu adalah koin \", left)\n",
        "        print(\"Total penimbangan \", balancing)\n",
        "        return\n",
        "    if coins == 2:\n",
        "        balancing += 1\n",
        "        print(\"sisi kiri \", left)\n",
        "        print(\"sisi kanan \", right-1)\n",
        "        result = balance(left, left+1, left+1, right, fake)\n",
        "        if result == \"left\":\n",
        "            print(\"Pada penimbangan ke-\",balancing,\", bagian kiri lebih ringan\")\n",
        "            print(\"Maka koin yang palsu adalah\", left)\n",
        "            print(\"Total penimbangan \", balancing)\n",
        "        if result == \"right\":\n",
        "            print(\"Pada penimbangan ke-\",balancing,\", bagian kanan lebih ringan\")\n",
        "            print(\"Maka koin yang palsu adalah\", right-1)\n",
        "            print(\"Total penimbangan \", balancing)\n",
        "        return        \n",
        "    print(\"sisi kiri\", left,\"sampai\", left + coins//3-1)\n",
        "    print(\"sisi tengah\", left + coins//3,\"sampai\", left + (coins//3)+(coins//3)-1)\n",
        "    print(\"sisi kanan\", left + (coins//3)+(coins//3),\"sampai\", right-1)\n",
        "    result = balance(left, left + coins//3, left + coins//3, left + (coins//3)+(coins//3), fake)\n",
        "    balancing += 1\n",
        "    if result == \"left\":\n",
        "        print(\"Pada penimbangan ke-\",balancing,\", bagian kiri lebih ringan\")\n",
        "        print(\"\")\n",
        "        findfake(left, left + coins//3, balancing, fake)\n",
        "    elif result == \"right\":\n",
        "        print(\"Pada penimbangan ke-\",balancing,\", bagian tengah lebih ringan\")\n",
        "        print(\"\")\n",
        "        findfake(left + coins//3, left + (coins//3)+(coins//3), balancing, fake)\n",
        "    else:\n",
        "        print(\"Pada penimbangan ke-\",balancing,\", bagian kanan lebih ringan\")\n",
        "        print(\"\")\n",
        "        findfake(left + (coins//3)+(coins//3), right, balancing, fake)\n",
        "\n",
        "n = int(input(\"Jumlah koin : \"))\n",
        "fake = int(input(\"Koin yang palsu (0 s/d (Jumlah koin)-1): \"))\n",
        "\n",
        "findfake(0, n, 0, fake)"
      ],
      "metadata": {
        "colab": {
          "base_uri": "https://localhost:8080/"
        },
        "id": "Jc9Pz_9evxNk",
        "outputId": "b2612e66-6ef0-4dfd-a6b5-4dde33c944f3"
      },
      "execution_count": null,
      "outputs": [
        {
          "output_type": "stream",
          "name": "stdout",
          "text": [
            "Jumlah koin : 1000\n",
            "Koin yang palsu (0 s/d (Jumlah koin)-1): 9\n",
            "sisi kiri 0 sampai 332\n",
            "sisi tengah 333 sampai 665\n",
            "sisi kanan 666 sampai 999\n",
            "Pada penimbangan ke- 1 , bagian kiri lebih ringan\n",
            "\n",
            "sisi kiri 0 sampai 110\n",
            "sisi tengah 111 sampai 221\n",
            "sisi kanan 222 sampai 332\n",
            "Pada penimbangan ke- 2 , bagian kiri lebih ringan\n",
            "\n",
            "sisi kiri 0 sampai 36\n",
            "sisi tengah 37 sampai 73\n",
            "sisi kanan 74 sampai 110\n",
            "Pada penimbangan ke- 3 , bagian kiri lebih ringan\n",
            "\n",
            "sisi kiri 0 sampai 11\n",
            "sisi tengah 12 sampai 23\n",
            "sisi kanan 24 sampai 36\n",
            "Pada penimbangan ke- 4 , bagian kiri lebih ringan\n",
            "\n",
            "sisi kiri 0 sampai 3\n",
            "sisi tengah 4 sampai 7\n",
            "sisi kanan 8 sampai 11\n",
            "Pada penimbangan ke- 5 , bagian kanan lebih ringan\n",
            "\n",
            "sisi kiri 8 sampai 8\n",
            "sisi tengah 9 sampai 9\n",
            "sisi kanan 10 sampai 11\n",
            "Pada penimbangan ke- 6 , bagian tengah lebih ringan\n",
            "\n",
            "Koin palsu adalah koin  9\n",
            "Total penimbangan  6\n"
          ]
        }
      ]
    },
    {
      "cell_type": "markdown",
      "metadata": {
        "id": "YXi0IBb3K5yI"
      },
      "source": [
        "### [Di&C] Tugas 3\n",
        "\n",
        "Implementasikan Algoritma Quick Sort dengan efisiensi waktu rata-rata $\\mathcal{O}(n \\log n)$ dan efisiensi ruang $\\mathcal{O}(n \\log n)$."
      ]
    },
    {
      "cell_type": "code",
      "source": [
        "def quicksort(st, fin, L):\n",
        "    if st >= fin:\n",
        "        return\n",
        "    p = L[st]\n",
        "    i = st + 1\n",
        "    j = fin - 1\n",
        "    if i != j:\n",
        "        while(i < j):\n",
        "            while(L[i] <= p):\n",
        "                i += 1\n",
        "            while(L[j] > p):\n",
        "                j -= 1\n",
        "            if i < j:\n",
        "                L[i], L[j] = L[j], L[i]\n",
        "        L[st], L[j] = L[j], L[st]\n",
        "    quicksort(st, j, L)\n",
        "    quicksort(j+1, fin, L)\n",
        "\n",
        "L = [5, 3, 1, 9, 8, 2, 4, 7]\n",
        "quicksort(0, len(L), L)\n",
        "print(L)"
      ],
      "metadata": {
        "colab": {
          "base_uri": "https://localhost:8080/"
        },
        "id": "shc1_ip_dGg8",
        "outputId": "239091b1-48f7-433d-ca81-97a7baca8836"
      },
      "execution_count": null,
      "outputs": [
        {
          "output_type": "stream",
          "name": "stdout",
          "text": [
            "[1, 2, 3, 4, 5, 7, 8, 9]\n"
          ]
        }
      ]
    },
    {
      "cell_type": "markdown",
      "metadata": {
        "id": "XeVRalTJLxj7"
      },
      "source": [
        "### [Di&C] Tugas 4\n",
        "\n",
        "Implementasikan Algoritma Strassen Matrix Multiplication dengan efisiensi waktu $\\mathcal{O}(n^{\\log_2 7})$ dan efisiensi ruang $\\mathcal{O}(n^2 \\log n)$"
      ]
    },
    {
      "cell_type": "code",
      "source": [
        "import numpy as np\n",
        "import math\n",
        "\n",
        "\n",
        "def split(matrix, n):\n",
        "    return matrix[:n, :n], matrix[:n, n:], matrix[n:, :n], matrix[n:, n:]\n",
        "\n",
        "def matrix_dim(matrix):\n",
        "    while math.log(len(matrix), 2) < math.ceil(math.log(len(matrix), 2)):\n",
        "        matrix = np.pad(matrix, (0, 1), mode='constant')\n",
        "    return matrix\n",
        "\n",
        "def strassen(a, b):\n",
        "    n = len(a)\n",
        "    if n == 1:\n",
        "        return a * b\n",
        "\n",
        "    a00, a01, a10, a11 = split(a, n // 2)\n",
        "    b00, b01, b10, b11 = split(b, n // 2)\n",
        "\n",
        "    m1 = strassen(a00 + a11, b00 + b11)\n",
        "    m2 = strassen(a10 + a11, b00)\n",
        "    m3 = strassen(a00, b01 - b11)\n",
        "    m4 = strassen(a11, b10 - b00)\n",
        "    m5 = strassen(a00 + a01, b11)\n",
        "    m6 = strassen(a10 - a00, b00 + b01)\n",
        "    m7 = strassen(a01 - a11, b10 + b11)\n",
        "\n",
        "    C00 = m1 + m4 - m5 + m7\n",
        "    C01 = m3 + m5\n",
        "    C10 = m2 + m4\n",
        "    C11 = m1 + m3 - m2 + m6\n",
        "\n",
        "    result = np.vstack((np.hstack((C00, C01)), np.hstack((C10, C11))))\n",
        "    return result\n",
        "\n",
        "A = np.array([[1, 2, 3, 4, 5], [5, 6, 7, 8, 6], [9, 10, 11, 12, 13], [13, 14, 15, 16, 17], [2, 2, 2, 2, 2]])\n",
        "B = np.array([[4, 4, 4, 4, 1], [5, 5, 5, 5, 2], [6, 6, 6, 6, 6], [7, 7, 7, 7, 7], [1, 1, 1, 1, 1]])\n",
        "\n",
        "print(f\"Matrix A: \\n{A}\")\n",
        "print(f\"Matrix B: \\n{B}\")\n",
        "A = matrix_dim(A)\n",
        "B = matrix_dim(B)\n",
        "\n",
        "print(\"\\nMatrix multiplication result: \\n\")\n",
        "\n",
        "result_matrix = strassen(A, B)\n",
        "print(result_matrix[:len(A), :len(A)])"
      ],
      "metadata": {
        "id": "MHeIHewK3Mb_",
        "colab": {
          "base_uri": "https://localhost:8080/"
        },
        "outputId": "40d1a283-492e-4458-d9f9-7398af32ef70"
      },
      "execution_count": 15,
      "outputs": [
        {
          "output_type": "stream",
          "name": "stdout",
          "text": [
            "Matrix A: \n",
            "[[ 1  2  3  4  5]\n",
            " [ 5  6  7  8  6]\n",
            " [ 9 10 11 12 13]\n",
            " [13 14 15 16 17]\n",
            " [ 2  2  2  2  2]]\n",
            "Matrix B: \n",
            "[[4 4 4 4 1]\n",
            " [5 5 5 5 2]\n",
            " [6 6 6 6 6]\n",
            " [7 7 7 7 7]\n",
            " [1 1 1 1 1]]\n",
            "\n",
            "Matrix multiplication result: \n",
            "\n",
            "[[ 65  65  65  65  56]\n",
            " [154 154 154 154 121]\n",
            " [249 249 249 249 192]\n",
            " [341 341 341 341 260]\n",
            " [ 46  46  46  46  34]]\n"
          ]
        }
      ]
    },
    {
      "cell_type": "markdown",
      "metadata": {
        "id": "phCV6KS4LyKm"
      },
      "source": [
        "### Tugas Tantangan\n",
        "\n",
        "Implementasikan Algoritma Closest Pair dengan efisiensi waktu $\\mathcal{O}(n\\log^2 n)$ dan efisiensi ruang $\\mathcal{O}(n\\log n)$"
      ]
    }
  ]
}