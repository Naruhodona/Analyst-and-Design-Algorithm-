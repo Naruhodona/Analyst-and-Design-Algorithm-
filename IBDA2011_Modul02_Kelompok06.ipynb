{
  "nbformat": 4,
  "nbformat_minor": 0,
  "metadata": {
    "colab": {
      "provenance": [],
      "collapsed_sections": []
    },
    "kernelspec": {
      "name": "python3",
      "display_name": "Python 3"
    },
    "language_info": {
      "name": "python"
    }
  },
  "cells": [
    {
      "cell_type": "code",
      "execution_count": 13,
      "metadata": {
        "id": "Yu_Cuo2V2YMf",
        "colab": {
          "base_uri": "https://localhost:8080/"
        },
        "outputId": "449a3eee-64b6-43c0-f600-0a2dab91b811"
      },
      "outputs": [
        {
          "output_type": "stream",
          "name": "stdout",
          "text": [
            "1.118033988749895\n",
            "0 4\n",
            "5 6\n"
          ]
        }
      ],
      "source": [
        "# Tugas 1 modul 2\n",
        "\n",
        "def d(p1, p2):\n",
        "  result = ((p1[0] - p2[0])**2 + (p1[1]-p2[1])**2)**0.5\n",
        "  return result\n",
        "\n",
        "x = [2.0, -3.0, 5.5, 6.5, 1.0, 0.5, 0]\n",
        "y = [0.0, 5.5, 1.5, -0.5, 0.5, 3.5, 4.5]\n",
        "coordinate = []\n",
        "distance = []\n",
        "for i in range(len(x)):\n",
        "  coordinate.append((x[i], y[i]))\n",
        "for i in range(len(coordinate)-1):\n",
        "  for j in range(i+1, len(coordinate)):\n",
        "    dist = d(coordinate[i], coordinate[j])\n",
        "    distance.append(dist)\n",
        "for i in range(len(distance)-1):\n",
        "  min_element = distance[i]\n",
        "  min_idx = i\n",
        "  for j in range(i+1, len(distance)):\n",
        "    if distance[j] < min_element:\n",
        "      min_element = distance[j]\n",
        "      min_idx = j\n",
        "    elif distance[j] == min_element:\n",
        "      if distance[j] < min_element:\n",
        "        min_element = distance[j]\n",
        "        min_idx = j\n",
        "  distance[i], distance[min_idx] = distance[min_idx], distance[i]\n",
        "min = distance[0]\n",
        "closest_node = []\n",
        "for i in range(len(coordinate)-1):\n",
        "  for j in range(i+1, len(coordinate)):\n",
        "    dist = d(coordinate[i], coordinate[j])\n",
        "    if dist == min:\n",
        "      closest_node.append((i, j))\n",
        "print(min)\n",
        "for i in range(len(closest_node)):\n",
        "  print(f'{closest_node[i][0]} {closest_node[i][1]}')"
      ]
    },
    {
      "cell_type": "code",
      "source": [
        "#tugas 2 modul 2 dfs\n",
        "\n",
        "def dfs(current_position1, current_position2, path, n, value, l, solutions):\n",
        "    stack = []\n",
        "    stack.append([current_position1, current_position2, path, value])\n",
        "    while len(stack) != 0:\n",
        "        current_position1, current_position2, path_explored, value = stack[len(stack)-1]\n",
        "        stack.pop()\n",
        "        value += l[current_position1][current_position2]\n",
        "        if current_position1 + 1 < n:\n",
        "            next_path_explored = path_explored + ['B']\n",
        "            next_position1 = current_position1 + 1\n",
        "            stack.append([next_position1, current_position2, next_path_explored, value])\n",
        "        if current_position2 + 1 < n:\n",
        "            next_path_explored = path_explored + ['K']\n",
        "            next_position2 = current_position2 + 1\n",
        "            stack.append([current_position1, next_position2, next_path_explored, value])\n",
        "        if current_position1 + 1 == n and current_position2 + 1 == n:\n",
        "            solutions.append([path_explored, value])\n",
        "\n",
        "l = [[5, 9, 1, 7],\n",
        "  [2, 13, 3, 21],\n",
        "  [9, 12, 1, 10],\n",
        "  [8, 2, 1, 6]]\n",
        "n = len(l[0])\n",
        "solutions = []\n",
        "dfs(0, 0, [], n, 0, l, solutions)\n",
        "max = solutions[0][1]\n",
        "best_route = solutions[0][0]\n",
        "for i in range(0, len(solutions)):\n",
        "    if solutions[i][1] > max:\n",
        "        max = solutions[i][1]\n",
        "        best_route = solutions[i][0]\n",
        "print(max)\n",
        "for i in range(len(best_route)):\n",
        "    print(f'{best_route[i]}', end=\"\")"
      ],
      "metadata": {
        "colab": {
          "base_uri": "https://localhost:8080/"
        },
        "id": "Uud1BlAg2lsH",
        "outputId": "1f881aaa-288c-432d-88d9-f67b89adbe0b"
      },
      "execution_count": null,
      "outputs": [
        {
          "output_type": "stream",
          "name": "stdout",
          "text": [
            "67\n",
            "KBKKBB"
          ]
        }
      ]
    },
    {
      "cell_type": "code",
      "source": [
        "# tugas 2 modul 2 bfs\n",
        "def bfs(current_position1, current_position2, path, n, value, l, solutions):\n",
        "    queue = []\n",
        "    queue.append([current_position1, current_position2, path, value])\n",
        "    while len(queue) != 0:\n",
        "        current_position1, current_position2, path_explored, value = queue[0]\n",
        "        queue.pop(0)\n",
        "        value += l[current_position1][current_position2]\n",
        "        if current_position1 + 1 < n:\n",
        "            next_path_explored = path_explored + ['B']\n",
        "            next_position1 = current_position1 + 1\n",
        "            queue.append([next_position1, current_position2, next_path_explored, value])\n",
        "        if current_position2 + 1 < n:\n",
        "            next_path_explored = path_explored + ['K']\n",
        "            next_position2 = current_position2 + 1\n",
        "            queue.append([current_position1, next_position2, next_path_explored, value])\n",
        "        if current_position1 + 1 == n and current_position2 + 1 == n:\n",
        "            solutions.append([path_explored, value])\n",
        "\n",
        "l = [[5, 9, 1, 7],\n",
        "  [2, 13, 3, 21],\n",
        "  [9, 12, 1, 10],\n",
        "  [8, 2, 1, 6]]\n",
        "n = len(l[0])\n",
        "solutions = []\n",
        "bfs(0, 0, [], n, 0, l, solutions)\n",
        "max = solutions[0][1]\n",
        "best_route = solutions[0][0]\n",
        "for i in range(0, len(solutions)):\n",
        "    if solutions[i][1] > max:\n",
        "        max = solutions[i][1]\n",
        "        best_route = solutions[i][0]\n",
        "print(max)\n",
        "for i in range(len(best_route)):\n",
        "    print(f'{best_route[i]}', end=\"\")"
      ],
      "metadata": {
        "colab": {
          "base_uri": "https://localhost:8080/"
        },
        "id": "nwXWGui54AhI",
        "outputId": "b26adfdb-de4e-4400-8674-e7bca7cebb2f"
      },
      "execution_count": 12,
      "outputs": [
        {
          "output_type": "stream",
          "name": "stdout",
          "text": [
            "67\n",
            "KBKKBB"
          ]
        }
      ]
    },
    {
      "cell_type": "code",
      "source": [
        "#subpermasalahan tugas 2\n",
        "def bfs(current_position1, current_position2, path, n, value, value_explored, l, solutions):\n",
        "    queue = []\n",
        "    queue.append([current_position1, current_position2, path, value_explored, value])\n",
        "    while len(queue) != 0:\n",
        "        current_position1, current_position2, path_explored, value_explored, value = queue[0]\n",
        "        queue.pop(0)\n",
        "        value_explored = value_explored + [l[current_position1][current_position2]]\n",
        "        value += l[current_position1][current_position2]\n",
        "        if current_position1 + 1 < n:\n",
        "            next_path_explored = path_explored + ['B']\n",
        "            next_position1 = current_position1 + 1\n",
        "            queue.append([next_position1, current_position2, next_path_explored, value_explored, value])\n",
        "        if current_position2 + 1 < n:\n",
        "            next_path_explored = path_explored + ['K']\n",
        "            next_position2 = current_position2 + 1\n",
        "            queue.append([current_position1, next_position2, next_path_explored, value_explored, value])\n",
        "        if current_position1 + 1 == n and current_position2 + 1 == n:\n",
        "            solutions.append([path_explored, value, value_explored])\n",
        "\n",
        "l = [[5, 9, 1, 7],\n",
        "  [2, 13, 3, 21],\n",
        "  [9, 12, 1, 10],\n",
        "  [8, 2, 1, 6]]\n",
        "n = len(l[0])\n",
        "solutions = []\n",
        "bfs(0, 0, [], n, 0, [], l, solutions)\n",
        "max = solutions[0][1]\n",
        "best_route = solutions[0][0]\n",
        "best_value = solutions[0][2]\n",
        "for i in range(0, len(solutions)):\n",
        "    if solutions[i][1] > max:\n",
        "        max = solutions[i][1]\n",
        "        best_route = solutions[i][0]\n",
        "        best_value = solutions[i][2]\n",
        "print(\"Jadi, rute terbaik adalah: \", end=\"\")\n",
        "for i in range(len(best_route)):\n",
        "    print(f'{best_route[i]}', end=\" -> \")\n",
        "    if i == (len(best_route)-1):\n",
        "        print(\"Finish\")\n",
        "print(\"\\nHarta karun yang ditelusuri: \", end=\"\")\n",
        "for i in range(len(best_value)):\n",
        "    print(f'{best_value[i]}', end=\" -> \")\n",
        "    if i == (len(best_value)-1):\n",
        "        print(\"Finish\")\n",
        "print(\"\\ndengan total harta karun sebesar\", max)"
      ],
      "metadata": {
        "colab": {
          "base_uri": "https://localhost:8080/"
        },
        "id": "CS4hlH9r4D9u",
        "outputId": "c602a196-183d-447c-abac-68c3b3dc9335"
      },
      "execution_count": null,
      "outputs": [
        {
          "output_type": "stream",
          "name": "stdout",
          "text": [
            "Jadi, rute terbaik adalah: K -> B -> K -> K -> B -> B -> Finish\n",
            "\n",
            "Value yang ditelusuri: 5 -> 9 -> 13 -> 3 -> 21 -> 10 -> 6 -> Finish\n",
            "\n",
            "dengan total harta karun sebesar 67\n"
          ]
        }
      ]
    },
    {
      "cell_type": "markdown",
      "source": [
        "Menurut kelompok kami, untuk kasus harta karun ini semua solusi perlu dikumpulkan terlebih dahulu setelah itu baru kita dapat membandingkan rute mana yang memiliki value harta karun terbesar. Strategi DFS atau BFS yang lebih baik? Menurut kami, DFS atau BFS sama saja karena semua rute perlu dikumpulkan sebelum tahu rute terbaiknya."
      ],
      "metadata": {
        "id": "n0eFObiHD2So"
      }
    }
  ]
}