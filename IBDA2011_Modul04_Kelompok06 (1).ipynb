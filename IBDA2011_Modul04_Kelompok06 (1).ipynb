{
  "cells": [
    {
      "cell_type": "markdown",
      "metadata": {
        "id": "WbPqfdIct5Lw"
      },
      "source": [
        "### Tugas 1\n",
        "\n",
        "Buatlah suatu algoritma untuk mendeteksi apakah dua buah string *saling anagram* atau tidak.\n",
        "\n",
        "Suatu string ```s1``` merupakan sebuah anagram dari string ```s2``` jika setiap karakter di ```s1``` dapat disusun ulang urutannya sehingga menjadi ```s2```.\n",
        "\n",
        "Contoh: string ```study``` adalah anagram dari string ```dusty```, namun string ```tolong``` bukan merupakan anagram dari string ```lontong```.\n",
        "\n",
        "Ketentuan kompleksitas waktu: $\\mathcal{O}(n\\log n)$,\n",
        "\n",
        "Ketentuan kompleksitas ruang: $\\mathcal{O}(n)$,\n",
        "\n",
        "di mana $n$ merupakan ukuran string terpanjang dari antara dua string yang sedang diuji.\n"
      ]
    },
    {
      "cell_type": "code",
      "execution_count": null,
      "metadata": {
        "colab": {
          "base_uri": "https://localhost:8080/"
        },
        "id": "X3FyA061tZmw",
        "outputId": "49eb0eee-99d0-402a-808f-cc88040f1028"
      },
      "outputs": [
        {
          "name": "stdout",
          "output_type": "stream",
          "text": [
            "String 1:atas\n",
            "String 2:saap\n",
            "Kedua string tidak saling anagram\n"
          ]
        }
      ],
      "source": [
        "def split_list(L, new):\n",
        "    if len(L) == 1:#saat panjang list 1 maka rekursif paling dalam berhenti\n",
        "        return\n",
        "    L1 = L[0:len(L)//2]\n",
        "    L2 = L[len(L)//2:len(L)]\n",
        "    if len(L1) == 1:#saat panjang L1 list yang sudah dibagi 2 bagian kiri panjangnya 1 maka akan ditambahkan masuk ke list new\n",
        "        new.append(L1)\n",
        "    if len(L2) == 1:#saat panjang L2 list yang sudah dibagi 2 bagian kanan panjangnya 1 maka akan ditambahkan masuk ke list new\n",
        "        new.append(L2)\n",
        "    split_list(L1, new)\n",
        "    split_list(L2, new)\n",
        "\n",
        "def merge_list(new):\n",
        "    while len(new) != 1:#lakukan pengulangan saat panjang list new tidak sama dengan 1. maksudnya nanti saat penggabungan list, kita ekspektasi list new\n",
        "                        #hanya akan menampung 1 list panjang n yang sudah tersortir didalamnya\n",
        "        L1 = new[0]\n",
        "        L2 = new[1]\n",
        "        i = 0\n",
        "        j = 0\n",
        "        sub = []\n",
        "        while i != len(L1) or j != len(L2): #lakukan pengulangan saat i tidak sama dengan panjang L1 atau j tidak sama dengan panjang L2\n",
        "            if i == len(L1):#jika i sama dengan panjang list L1, maka \n",
        "                sub.extend(L2[j:len(L2)])\n",
        "                break\n",
        "            elif j == len(L2):#jika j sama dengan panjang list L2\n",
        "                sub.extend(L1[i:len(L1)])\n",
        "                break\n",
        "            elif L1[i] < L2[j]:#jika data index i dari L1 lebih kecil dari index j dari L2, maka data dari list L1 di index i akan ditambahkan ke list sub\n",
        "                sub.append(L1[i])\n",
        "                i += 1\n",
        "            elif L2[j] <= L1[i]:#jika data index j dari L2 lebih kecil sama dengan dari index i dari L1, maka data dari list L1 di index i akan ditambahkan ke list sub\n",
        "                sub.append(L2[j])\n",
        "                j += 1\n",
        "        new.append(sub)\n",
        "        new.pop(1)\n",
        "        new.pop(0)\n",
        "\n",
        "def merge_sort(L, new):\n",
        "    split_list(L, new)\n",
        "    merge_list(new)\n",
        "    return new\n",
        "\n",
        "s1 = input(\"String 1:\")\n",
        "s2 = input(\"String 2:\")\n",
        "n = len(s1)\n",
        "if len(s1) != len(s2):\n",
        "    print(\"Kedua string tidak saling anagram\")\n",
        "t1 = []\n",
        "t2 = []\n",
        "for i in range(n):\n",
        "    t1.append(s1[i])\n",
        "    t2.append(s2[i])\n",
        "new1 = []\n",
        "new2 = []\n",
        "t1 = merge_sort(t1, new1)\n",
        "t2 = merge_sort(t2, new2)\n",
        "if t1 == t2:\n",
        "    print(\"Kedua string saling anagram\")\n",
        "else:\n",
        "    print(\"Kedua string tidak saling anagram\")"
      ]
    },
    {
      "cell_type": "markdown",
      "metadata": {
        "id": "GGDnLhzszSoL"
      },
      "source": [
        "### Tugas 2\n",
        "\n",
        "Dalam tugas ini Anda diminta untuk mengimplementasikan struktur data **min**-heap, artinya ini merupakan sebuah priority qeueu di mana nilai yang di-pop dari antara isian queue haruslah yang memiliki nilai **terkecil**.\n",
        "\n",
        "*(Perhatikan bahwa jenis ini sedikit berbeda dari yang dijelaskan di kelas, namun sangat mirip)*.\n",
        "\n",
        "**Tugas 2.1.** Implementasikan fungsi ```BottomUpParentDominance(i)```.\n",
        "\n",
        "*Contoh implementasi*. Misalkan\n",
        "```\n",
        "H = [, 2, 7, 3, 4, 10, 8, 9, 6, 17, 13, 5, 12, 15]\n",
        "```\n",
        "Setelah fungsi berikut dijalankan:\n",
        "```\n",
        "BottomUpParentDominance(11)\n",
        "```\n",
        "maka heap akan berubah menjadi\n",
        "```\n",
        "H = [, 2, 5, 3, 4, 7, 8, 9, 6, 17, 13, 10, 12, 15]\n",
        "```\n",
        "\n",
        "Ketentuan kompleksitas waktu: $\\mathcal{O}(\\log n)$.\n",
        "\n",
        "Ketentuan kompleksitas ruang: $\\mathcal{O}(n)$.\n",
        "\n",
        "**Tugas 2.2.** Implementasikan fungsi ```TopDownParentDominance(i)```.\n",
        "\n",
        "*Contoh implementasi*. Misalkan\n",
        "```\n",
        "H = [, 2, 3, 14, 4, 10, 8, 9, 6, 17, 13, 15, 12, 18]\n",
        "```\n",
        "Setelah fungsi berikut dijalankan:\n",
        "```\n",
        "TopDownParentDominance(3)\n",
        "```\n",
        "maka heap akan berubah menjadi\n",
        "```\n",
        "H = [, 2, 3, 8, 4, 10, 12, 9, 6, 17, 13, 15, 14, 18]\n",
        "```\n",
        "\n",
        "Ketentuan kompleksitas waktu: $\\mathcal{O}(\\log n)$.\n",
        "\n",
        "Ketentuan kompleksitas ruang: $\\mathcal{O}(n)$.\n",
        "\n",
        "**Tugas 2.3.** Implementasikan fungsi ```Heapify(H)```.\n",
        "\n",
        "*Contoh implementasi*. Misalkan\n",
        "```\n",
        "H = [, 8, 2, 4, 9, 1, 7, 3, 10, 5]\n",
        "```\n",
        "Setelah fungsi berikut dijalankan:\n",
        "```\n",
        "Heapify(H)\n",
        "```\n",
        "maka heap akan berubah menjadi\n",
        "```\n",
        "H = [, 1, 2, 3, 5, 8, 7, 4, 10, 9]\n",
        "```\n",
        "\n",
        "Ketentuan kompleksitas waktu: $\\mathcal{O}(n\\log n)$.\n",
        "\n",
        "Ketentuan kompleksitas ruang: $\\mathcal{O}(n)$.\n",
        "\n",
        "**Tugas 2.4.** Implementasikan fungsi ```Insert(v)```.\n",
        "\n",
        "*Contoh implementasi*. Misalkan\n",
        "```\n",
        "H = [, 1, 2, 3, 5, 8, 7, 4, 10, 9]\n",
        "```\n",
        "Setelah fungsi berikut dijalankan:\n",
        "```\n",
        "Insert(6)\n",
        "```\n",
        "maka heap akan berubah menjadi\n",
        "```\n",
        "H = [, 1, 2, 3, 5, 6, 7, 4, 10, 9, 8]\n",
        "```\n",
        "\n",
        "Ketentuan kompleksitas waktu: $\\mathcal{O}(\\log n)$.\n",
        "\n",
        "Ketentuan kompleksitas ruang: $\\mathcal{O}(n)$.\n",
        "\n",
        "**Tugas 2.5.** Implementasikan fungsi ```Delete(i)```.\n",
        "\n",
        "*Contoh implementasi*. Misalkan\n",
        "```\n",
        "H = [, 1, 2, 3, 5, 6, 7, 4, 10, 9, 8]\n",
        "```\n",
        "Setelah fungsi berikut dijalankan:\n",
        "```\n",
        "Delete(2)\n",
        "```\n",
        "maka heap akan berubah menjadi\n",
        "```\n",
        "H = [, 1, 5, 3, 8, 6, 7, 4, 10, 9]\n",
        "```\n",
        "\n",
        "Ketentuan kompleksitas waktu: $\\mathcal{O}(\\log n)$.\n",
        "\n",
        "Ketentuan kompleksitas ruang: $\\mathcal{O}(n)$."
      ]
    },
    {
      "cell_type": "code",
      "execution_count": null,
      "metadata": {
        "colab": {
          "base_uri": "https://localhost:8080/"
        },
        "id": "PEjA0uIn7sXo",
        "outputId": "50eea0e0-23a1-45e4-8713-24faf7794ba6"
      },
      "outputs": [
        {
          "name": "stdout",
          "output_type": "stream",
          "text": [
            "[None, 2, 5, 3, 4, 7, 8, 9, 6, 17, 13, 10, 12, 15]\n"
          ]
        }
      ],
      "source": [
        "#2.1 BottomUpParentDominance\n",
        "def BottomUpParentDominance(v, H):\n",
        "    if v == 1:#jika sudah sampai di root\n",
        "        return\n",
        "    par = v//2\n",
        "    if H[par] > H[v]:#jika value parent lebih besar dari child\n",
        "        H[par], H[v] = H[v], H[par]\n",
        "        v = par\n",
        "        BottomUpParentDominance(v, H)\n",
        "H = [None, 2, 7, 3, 4, 10, 8, 9, 6, 17, 13, 5, 12, 15]\n",
        "BottomUpParentDominance(11, H)\n",
        "print(H)"
      ]
    },
    {
      "cell_type": "code",
      "execution_count": null,
      "metadata": {
        "colab": {
          "base_uri": "https://localhost:8080/"
        },
        "id": "ltyzNmZHK4YI",
        "outputId": "29e5f205-9a57-4296-cc32-7cd724a36205"
      },
      "outputs": [
        {
          "name": "stdout",
          "output_type": "stream",
          "text": [
            "[None, 2, 3, 8, 4, 10, 12, 9, 6, 17, 13, 15, 14, 18]\n"
          ]
        }
      ],
      "source": [
        "#2.2 TopDownParentDominance\n",
        "def TopDownParentDominance(v, H):\n",
        "    LC = 2*v\n",
        "    RC = (2*v)+1\n",
        "    if LC >= len(H) and RC >= len(H):#jika node yang dikunjungi adalah leaf\n",
        "        return\n",
        "    if RC >= len(H): #tricky case saat parent hanya memiliki 1 child yaitu leftchild\n",
        "        if H[v] > H[LC]:\n",
        "            H[LC], H[v] = H[v], H[LC]\n",
        "            TopDownParentDominance(LC, H)\n",
        "    else: # jika kasus biasa yaitu node adalah parent dengan 2 child\n",
        "        if H[v] > H[LC] or H[v] > H[RC]:# jika parent lebih besar dari salah satu child\n",
        "            if H[LC] < H[RC]:#jika LC lebih kecil dari RC\n",
        "                smallest = LC\n",
        "            else:# jika RC lebih kecil sama dengan LC\n",
        "                smallest = RC\n",
        "            H[smallest], H[v] = H[v], H[smallest]\n",
        "            TopDownParentDominance(smallest, H)\n",
        "\n",
        "H = [None, 2, 3, 14, 4, 10, 8, 9, 6, 17, 13, 15, 12, 18]\n",
        "TopDownParentDominance(3, H)\n",
        "print(H)"
      ]
    },
    {
      "cell_type": "code",
      "execution_count": null,
      "metadata": {
        "colab": {
          "base_uri": "https://localhost:8080/"
        },
        "id": "p-F0dOqtPgmh",
        "outputId": "6b9bd691-d038-4732-eaf6-ad5d0ee64423"
      },
      "outputs": [
        {
          "name": "stdout",
          "output_type": "stream",
          "text": [
            "[None, 1, 2, 3, 5, 8, 7, 4, 10, 9]\n"
          ]
        }
      ],
      "source": [
        "#2.3 Heapify\n",
        "def TopDownParentDominance(v, H):\n",
        "    LC = 2*v\n",
        "    RC = (2*v)+1\n",
        "    if LC >= len(H) and RC >= len(H):#jika node yang dikunjungi adalah leaf\n",
        "        return\n",
        "    if RC >= len(H): #tricky case saat parent hanya memiliki 1 child yaitu leftchild\n",
        "        if H[v] > H[LC]: \n",
        "            H[LC], H[v] = H[v], H[LC]\n",
        "            TopDownParentDominance(LC, H)\n",
        "    else: # jika kasus biasa yaitu node adalah parent dengan 2 child\n",
        "        if H[v] > H[LC] or H[v] > H[RC]:# jika parent lebih besar dari salah satu child\n",
        "            if H[LC] < H[RC]:#jika LC lebih kecil dari RC\n",
        "                smallest = LC\n",
        "            else:# jika RC lebih kecil sama dengan LC\n",
        "                smallest = RC\n",
        "            H[smallest], H[v] = H[v], H[smallest]\n",
        "            TopDownParentDominance(smallest, H)\n",
        "\n",
        "def Heapify(H):\n",
        "    for i in range(len(H)//2+1, 0, -1):#mengecek semua parental dominance di semua parent\n",
        "        TopDownParentDominance(i, H)\n",
        "\n",
        "H = [None, 8, 2, 4, 9, 1, 7, 3, 10, 5]\n",
        "Heapify(H)\n",
        "print(H)"
      ]
    },
    {
      "cell_type": "code",
      "execution_count": null,
      "metadata": {
        "colab": {
          "base_uri": "https://localhost:8080/"
        },
        "id": "TgZvkndjQfK8",
        "outputId": "f1c9bcca-040a-4cc9-c4b1-4654925fb31b"
      },
      "outputs": [
        {
          "name": "stdout",
          "output_type": "stream",
          "text": [
            "[None, 1, 2, 3, 5, 6, 7, 4, 10, 9, 8]\n"
          ]
        }
      ],
      "source": [
        "#2.4 insert(v)\n",
        "def BottomUpParentDominance(v, H):\n",
        "    if v == 1:#jika sudah sampai di root\n",
        "        return\n",
        "    par = v//2\n",
        "    if H[par] > H[v]:#jika value parent lebih besar dari child\n",
        "        H[par], H[v] = H[v], H[par]\n",
        "        v = par\n",
        "        BottomUpParentDominance(v, H)\n",
        "\n",
        "def insert(v, H):\n",
        "    H.append(v)\n",
        "    BottomUpParentDominance(len(H)-1, H)#setelah append, dilakukan bottomupparentaldominance dari data yang diappend\n",
        "H = [None, 1, 2, 3, 5, 8, 7, 4, 10, 9]\n",
        "insert(6, H)\n",
        "print(H)"
      ]
    },
    {
      "cell_type": "code",
      "execution_count": null,
      "metadata": {
        "colab": {
          "base_uri": "https://localhost:8080/"
        },
        "id": "TAmHwiM8gyzM",
        "outputId": "81c2b48f-3be1-4e84-fd28-ca99dab2d7c5"
      },
      "outputs": [
        {
          "name": "stdout",
          "output_type": "stream",
          "text": [
            "[None, 1, 5, 3, 8, 6, 7, 4, 10, 9]\n"
          ]
        }
      ],
      "source": [
        "#2.5 Delete(i)\n",
        "def TopDownParentDominance(v, H):\n",
        "    LC = 2*v\n",
        "    RC = (2*v)+1\n",
        "    if LC >= len(H) and RC >= len(H):#jika node yang dikunjungi adalah leaf\n",
        "        return\n",
        "    if RC >= len(H): #tricky case saat parent hanya memiliki 1 child yaitu leftchild\n",
        "        if H[v] > H[LC]:\n",
        "            H[LC], H[v] = H[v], H[LC]\n",
        "            TopDownParentDominance(LC, H)\n",
        "    else: # jika kasus biasa yaitu node adalah parent dengan 2 child\n",
        "        if H[v] > H[LC] or H[v] > H[RC]:# jika parent lebih besar dari salah satu child\n",
        "            if H[LC] < H[RC]:#jika LC lebih kecil dari RC\n",
        "                smallest = LC\n",
        "            else:# jika RC lebih kecil sama dengan LC\n",
        "                smallest = RC\n",
        "            H[smallest], H[v] = H[v], H[smallest]\n",
        "            TopDownParentDominance(smallest, H)\n",
        "        \n",
        "def Delete(i, H):\n",
        "    n = len(H)\n",
        "    H[i], H[n-1] = H[n-1], H[i]\n",
        "    H.pop()\n",
        "    TopDownParentDominance(i, H)#setelah data swap dan data terakhir dihapus, maka akan dilakukan topdownparentaldominance dari index yang di-pop\n",
        "    \n",
        "H = [None, 1, 2, 3, 5, 6, 7, 4, 10, 9, 8]\n",
        "Delete(2, H)\n",
        "print(H)"
      ]
    },
    {
      "cell_type": "markdown",
      "metadata": {
        "id": "p1xAX-7zlzEt"
      },
      "source": [
        "### Tugas 3\n",
        "\n",
        "Dalam tugas ini, Anda akan mengimplementasikan Algoritma Horspool untuk menyelesaikan masalah *String Matching*. Dalam tugas ini, asumsikan bahwa string dalam perhitungan hanya memuat alfabet latin dalam huruf kapital saja, yaitu dari ```'A'``` hingga ```'Z'```.\n",
        "\n",
        "Misalkan $n$ adalah panjang string ```text```, $m$ adalah panjang string ```pattern```, dan $t$ adalah total banyaknya karakter alfabet yang mungkin muncul dalam string.\n",
        "\n",
        "**Tugas 3.1.** Implementasikan algoritma prekomputasi untuk membuat Shift Table. Perhatikan contoh berikut. Misalkan string pattern yang akan dicari adalah\n",
        "```\n",
        "pat = \"JEANCHAUVIN\"\n",
        "```\n",
        "Maka, Shift Table hasil prekomputasi terhadap pattern tersebut adalah\n",
        "\n",
        "| Karakter | #shift | Karakter | #shift | Karakter | #shift |\n",
        "|:--------:|:------:|:--------:|:------:|:--------:|:------:|\n",
        "|     A    |    4   |     J    |   10   |     S    |   11   |\n",
        "|     B    |   11   |     K    |   11   |     T    |   11   |\n",
        "|     C    |    6   |     L    |   11   |     U    |    3   |\n",
        "|     D    |   11   |     M    |   11   |     V    |    2   |\n",
        "|     E    |    9   |     N    |    7   |     W    |   11   |\n",
        "|     F    |   11   |     O    |   11   |     X    |   11   |\n",
        "|     G    |   11   |     P    |   11   |     Y    |   11   |\n",
        "|     H    |    5   |     Q    |   11   |     Z    |   11   |\n",
        "|     I    |    1   |     R    |   11   |          |        |\n",
        "\n",
        "\n",
        "\n",
        "Ketentuan kompleksitas waktu: $\\mathcal{O}(m+t)$.\n",
        "\n",
        "Ketentuan kompleksitas ruang: $\\mathcal{O}(t)$.\n",
        "\n",
        "**Tugas 3.2.** Implementasikan Algoritma Horspool dengan memanfaatkan Shift Table. Anda perlu untuk mengoutputkan:\n",
        "\n",
        "* Jika pattern ditemukan, outputkan **semua** posisi indeks **pertama** substring dari text yang adalah sama persis dengan string pattern. Jika tidak ditemukan, outputkan $-1$.\n",
        "* Untuk setiap iterasi shifting yang terjadi, outputkan **semua** indeks pertama substring dari text yang sedang dibandingkan dengan pattern. Boleh juga memberikan visualisasi pencocokan stringnya (tidak wajib, operasi print tidak masuk dalam perhitungan kompleksitas waktu).\n",
        "\n",
        "**Contoh.** Misalkan\n",
        "```\n",
        "text = \"SHDOKOSPJANHHAUVIISDJEANCHAUVINPOSLBSJEANCHAUVINSKFL\"\n",
        "pat = \"JEANCHAUVIN\"\n",
        "```\n",
        "Maka, output yang diharapkan adalah kurang lebih sebagai berikut.\n",
        "```\n",
        "Pemeriksaan awal:\n",
        "SHDOKOSPJANHHAUVIISDJEANCHAUVINPOSLBSJEANCHAUVINSKFL\n",
        "JEANCHAUVIN\n",
        "\n",
        "Shift #1:\n",
        "SHDOKOSPJANHHAUVIISDJEANCHAUVINPOSLBSJEANCHAUVINSKFL\n",
        "       JEANCHAUVIN\n",
        "\n",
        "Shift #2:\n",
        "SHDOKOSPJANHHAUVIISDJEANCHAUVINPOSLBSJEANCHAUVINSKFL\n",
        "        JEANCHAUVIN\n",
        "\n",
        "Shift #3:\n",
        "SHDOKOSPJANHHAUVIISDJEANCHAUVINPOSLBSJEANCHAUVINSKFL\n",
        "                   JEANCHAUVIN\n",
        "\n",
        "Shift #4:\n",
        "SHDOKOSPJANHHAUVIISDJEANCHAUVINPOSLBSJEANCHAUVINSKFL\n",
        "                    JEANCHAUVIN\n",
        "String ditemukan pada indeks ke 20.\n",
        "\n",
        "Shift #5:\n",
        "SHDOKOSPJANHHAUVIISDJEANCHAUVINPOSLBSJEANCHAUVINSKFL\n",
        "                          JEANCHAUVIN\n",
        "\n",
        "Shift #6:\n",
        "SHDOKOSPJANHHAUVIISDJEANCHAUVINPOSLBSJEANCHAUVINSKFL\n",
        "                                     JEANCHAUVIN\n",
        "String ditemukan pada indeks ke 37.\n",
        "```\n",
        "\n",
        "Ketentuan kompleksitas waktu: $\\mathcal{O}(mn)$, dengan average case $\\Theta(n)$.\n",
        "\n",
        "Ketentuan kompleksitas ruang: $\\mathcal{O}(t)$.\n",
        "\n",
        "**Tugas 3.3.** Temukan sebuah instance yang merupakan worst case dari algoritma Horspoll. Buktikan kompleksitas kasus terburuk tersebut."
      ]
    },
    {
      "cell_type": "code",
      "execution_count": 7,
      "metadata": {
        "colab": {
          "base_uri": "https://localhost:8080/"
        },
        "id": "GTx6ZzwAp2so",
        "outputId": "5c87010e-95f7-4d21-c361-4b8bd1b5f253"
      },
      "outputs": [
        {
          "name": "stdout",
          "output_type": "stream",
          "text": [
            "{'A': 4, 'B': 11, 'C': 6, 'D': 11, 'E': 9, 'F': 11, 'G': 11, 'H': 5, 'I': 1, 'J': 10, 'K': 11, 'L': 11, 'M': 11, 'N': 7, 'O': 11, 'P': 11, 'Q': 11, 'R': 11, 'S': 11, 'T': 11, 'U': 3, 'V': 2, 'W': 11, 'X': 11, 'Y': 11, 'Z': 11}\n"
          ]
        }
      ],
      "source": [
        "#3.1\n",
        "import string \n",
        "\n",
        "def shift_table(pat): #membuat fungsi untuk menghitung value dari shift table\n",
        "    global shift_table #global digunakan agar dic bisa dipakai di function lain\n",
        "    value_len_pat = len(pat)\n",
        "    shift_table = dict.fromkeys(string.ascii_uppercase, len(pat))\n",
        "    for i in range(value_len_pat-1): #untuk index di range value_len_pat -1, mengembalikkan value shift table tiap abjad\n",
        "        key_pat = pat[i] \n",
        "        shift_table[key_pat] = len(pat)-1-i \n",
        "    return shift_table\n",
        "\n",
        "shift_table(\"JEANCHAUVIN\")\n",
        "print(shift_table)\n"
      ]
    },
    {
      "cell_type": "code",
      "execution_count": 12,
      "metadata": {
        "colab": {
          "base_uri": "https://localhost:8080/"
        },
        "id": "WJ7TUG6h3vbq",
        "outputId": "1c5a57bc-1a96-4cee-8435-f25c83667ac0"
      },
      "outputs": [
        {
          "name": "stdout",
          "output_type": "stream",
          "text": [
            "\n",
            "Shift #0:\n",
            "CCCCCC\n",
            "AAAA\n",
            "-1\n"
          ]
        }
      ],
      "source": [
        "#3.2\n",
        "import string \n",
        "\n",
        "def shift_table(pat): #membuat fungsi untuk menghitung value dari shift table\n",
        "    global shift_table #global digunakan agar dic bisa dipakai di function lain\n",
        "    value_len_pat = len(pat)\n",
        "    shift_table = dict.fromkeys(string.ascii_uppercase, len(pat))\n",
        "    for i in range(value_len_pat-1): #untuk index di range value_len_pat -1, mengembalikkan value shift table tiap abjad\n",
        "        key_pat = pat[i] \n",
        "        shift_table[key_pat] = len(pat)-1-i \n",
        "    return shift_table\n",
        "\n",
        "shift_table(\"JEANCHAUVIN\")\n",
        "\n",
        "def read_shift(pattern, text):\n",
        "    i = 0\n",
        "    count = 0\n",
        "    found = False\n",
        "    while (len(pattern)+i < len(text)): #selama jumlah panjang pattern + index kurang dari jumlah panjang text\n",
        "        print() #maka akan mengeluarkan output berupa jumlah shift yang dudah di lakukan\n",
        "        print(f'Shift #{count}:')\n",
        "        print(text)\n",
        "        print(\" \"*i + pattern)\n",
        "        if pattern == text[i:len(pattern)+i]:#jika value dari pattern sama dengan text index panjang pattern + 1\n",
        "            print(f\"String ditemukan pada indeks {i}\") #maka akan memberikan hasil penemuan string  beserta posisi index ditemukannya\n",
        "            found = True\n",
        "        count += 1\n",
        "        i += shift_table[text[len(pattern)+i-1]]\n",
        "    if found != True:\n",
        "        print(f'-1')\n",
        "\n",
        "pattern = \"AAAA\"\n",
        "text = \"CCCCCC\"\n",
        "read_shift(pattern, text)"
      ]
    },
    {
      "cell_type": "markdown",
      "metadata": {
        "id": "zoAN46vuU-st"
      },
      "source": [
        "###3.3 Worst Case Algoritma Horspool\n",
        "Menurut kami, contoh instance worst case untuk algoritma horspool seperti ini:\n",
        "####Text = BCCCCCCCCC\n",
        "####Pattern = CCC\n",
        "Sebelum masuk shift pertama, Pattern akan bergeser sebanyak 1 langkah saja karena substring terakhir dalam text saat dibandingkan adalah C. Untuk selanjutnya juga akan seperti itu akan shift sebanyak 1 langkah saja untuk setiap kali shift sampai substring terakhir, sehingga kompleksitas algoritma horspool menjadi O(mn). "
      ]
    },
    {
      "cell_type": "markdown",
      "metadata": {
        "id": "D5MKcQK-l25I"
      },
      "source": [
        "### Tugas 4\n",
        "\n",
        "Dalam tugas ini, Anda akan mengimplementasikan Algoritma Rabin-Karp untuk menyelesaikan masalah String Matching dalam konteks bioinformatika. \n",
        "\n",
        "Sebuah genome sequence merupakan sebuah string yang setiap karakternya dapat diambil dari himpunan karakter $\\{\\mathtt{A}, \\mathtt{G}, \\mathtt{T}, \\mathtt{C}\\}$ yang masing-masing mewakili 4 jenis basa yang menyusun molekul DNA.\n",
        "\n",
        "Diberikan sebuah genome sequence yang disimpan oleh variabel string ```genome``` sepanjang $n$ dan sebuah pola basa nukleotida yang disimpan oleh variabel ```pattern``` sepanjang $m$. Anda diminta untuk mencari **semua** lokasi kemunculan ```pattern``` pada ```genome``` dengan menggunakan Algoritma Rabin-Karp.\n",
        "\n",
        "Untuk setiap posisi pengecekan substring dari ```genome```, Anda perlu mengoutputkan setiap hash-key value dari substring tersebut.\n",
        "\n",
        "Contoh:\n",
        "```\n",
        "genome = AGTCGTTAGAT\n",
        "pattern = CGTTA\n",
        "```\n",
        "Kurang lebih diharapkan algoritma dapat menghasilkan output sebagai demikian.\n",
        "```\n",
        "value(\"CGTTA\") = 872\n",
        "\n",
        "Iterasi 1. substring: AGTCG, value =  109\n",
        "\n",
        "Iterasi 2. substring: GTCGT, value =\t438\n",
        "\n",
        "Iterasi 3. substring: TCGTT, value =\t730\n",
        "\n",
        "Iterasi 4. substring: CGTTA, value =\t872\n",
        "Pattern is found!\n",
        "\n",
        "Iterasi 5. substring: GTTAG, value =\t417\n",
        "\n",
        "Iterasi 6. substring: TTAGA, value =\t644\n",
        "\n",
        "Iterasi 7. substring: TAGAT, value =\t530\n",
        "```\n",
        "\n",
        "*Catatan: Output di atas hanya salah satu metode dari berbagai cara mendesain fungsi hashingnya. Anda tidak harus mengikuti fungsi hashing seperti di atas.*\n",
        "\n",
        "Ketentuan kompleksitas waktu: $\\mathcal{O}(mn)$, dengan average case $\\Theta(n)$.\n",
        "\n",
        "Ketentuan kompleksitas ruang: $\\mathcal{O}(m+n)$."
      ]
    },
    {
      "cell_type": "code",
      "execution_count": 6,
      "metadata": {
        "colab": {
          "base_uri": "https://localhost:8080/"
        },
        "id": "umatYdgLPLNm",
        "outputId": "16364013-e9b5-4db6-cf90-4becd64b22a6"
      },
      "outputs": [
        {
          "name": "stdout",
          "output_type": "stream",
          "text": [
            "\n",
            "Iterasi 1: Substring = AGTCG, value substring = 484, value pattern = 167\n",
            "Iterasi 2: Substring = GTCGT, value substring = 633, value pattern = 167\n",
            "Iterasi 3: Substring = TCGTT, value substring = 670, value pattern = 167\n",
            "Iterasi 4: Substring = CGTTA, value substring = 167, value pattern = 167\n",
            "Pattern is found\n",
            "Iterasi 5: Substring = GTTAG, value substring = 297, value pattern = 167\n",
            "Iterasi 6: Substring = TTAGA, value substring = 74, value pattern = 167\n",
            "Iterasi 7: Substring = TTAGA, value substring = 530, value pattern = 167\n"
          ]
        }
      ],
      "source": [
        "def hash(string, k, table): # membuat fungsi hash berisi string=pattern, k=len(lib), dan table=lib\n",
        "    sum = 0\n",
        "    for i in range(len(string)):\n",
        "        sum += (table[string[i]] * k**i) \n",
        "    return sum \n",
        "\n",
        "def rehash(code, old_char, new_char, k, m, table): \n",
        "    result = (code - table[old_char]) // k + (table[new_char] * k**(m-1))\n",
        "    return result\n",
        "\n",
        "\n",
        "def RabinKarp(text, pattern, k, table):\n",
        "    n, m = len(text), len(pattern) # n = panjang text, m = panjang pattern\n",
        "    code_p = hash(pattern, k, table) #uk hash dari pattern\n",
        "    substring = text[0:m] \n",
        "    code_g = hash(substring, k, table)  #uk hash dari text\n",
        "    print(f'')\n",
        "    count = 0\n",
        "    for i in range(n-m): #untuk index di range n-m, memproses iterasi, substring, value substring dan value pattern dari\n",
        "        old_char, new_char = text[i], text[i+m] \n",
        "        print(f'Iterasi {count+1}: Substring = {text[i:m+i]}, value substring = {code_g}, value pattern = {code_p}')\n",
        "        if (code_g == code_p): # membandingkan apakah kode hash dari pat sama dengan kode text \n",
        "            print(\"Pattern is found\")\n",
        "        code_g = rehash(code_g, old_char, new_char, k, m, table) #mengoptimisasi hash yang lama agar kompleksitas menjadi O(1)\n",
        "        count += 1\n",
        "    print(f'Iterasi {count+1}: Substring = {text[i:m+i]}, value substring = {code_g}, value pattern = {code_p}')     \n",
        "\n",
        "genome = \"AGTCGTTAGAT\"\n",
        "pattern = input(\"Pattern : \").upper() # pattern = cgtta\n",
        "lib = {'A' : 0, 'G' : 1, 'T' : 2, 'C' : 3}\n",
        "RabinKarp(genome, pattern, len(lib), lib)"
      ]
    }
  ],
  "metadata": {
    "colab": {
      "provenance": []
    },
    "kernelspec": {
      "display_name": "Python 3.10.1 64-bit",
      "language": "python",
      "name": "python3"
    },
    "language_info": {
      "codemirror_mode": {
        "name": "ipython",
        "version": 3
      },
      "file_extension": ".py",
      "mimetype": "text/x-python",
      "name": "python",
      "nbconvert_exporter": "python",
      "pygments_lexer": "ipython3",
      "version": "3.10.1"
    },
    "vscode": {
      "interpreter": {
        "hash": "96ef792f4c79663ba5655a0eaeb163067b2e910539bae6612d6bd99754b15ef1"
      }
    }
  },
  "nbformat": 4,
  "nbformat_minor": 0
}
